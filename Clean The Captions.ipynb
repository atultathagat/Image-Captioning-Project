{
 "cells": [
  {
   "cell_type": "code",
   "execution_count": 49,
   "metadata": {},
   "outputs": [],
   "source": [
    "import os\n",
    "from nltk import word_tokenize\n",
    "import string\n",
    "import numpy as np\n",
    "from tensorflow.keras.preprocessing.text import Tokenizer\n",
    "import pickle"
   ]
  },
  {
   "cell_type": "code",
   "execution_count": 6,
   "metadata": {},
   "outputs": [],
   "source": [
    "with open('Flickr8k_text/Flickr8k.token.txt','r') as file_obj:\n",
    "    data=file_obj.readlines()"
   ]
  },
  {
   "cell_type": "code",
   "execution_count": 22,
   "metadata": {},
   "outputs": [],
   "source": [
    "punctuations=list(string.punctuation)"
   ]
  },
  {
   "cell_type": "code",
   "execution_count": 23,
   "metadata": {},
   "outputs": [],
   "source": [
    "def clean_caption(caption):\n",
    "    words=word_tokenize(caption)\n",
    "    cleaned_caption=[]\n",
    "    for w in words:\n",
    "        w=w.lower()\n",
    "        if (not w in punctuations) and w.isalpha() and len(w)>1:\n",
    "            cleaned_caption.append(w)\n",
    "    return ' '.join(cleaned_caption)        "
   ]
  },
  {
   "cell_type": "code",
   "execution_count": 61,
   "metadata": {},
   "outputs": [],
   "source": [
    "dict_img_captions={}\n",
    "max_len=0\n",
    "for cnt,i in enumerate(data):\n",
    "    img,caption=i.split('\\t')\n",
    "    img=img.split('.')[0].strip()\n",
    "    caption=caption.strip()\n",
    "    if not img in dict_img_captions:\n",
    "            dict_img_captions[img]=[]\n",
    "    cleaned_caption='startseq '+clean_caption(caption)+' endseq'      \n",
    "    words=cleaned_caption.split()\n",
    "    if len(words)>max_len:\n",
    "        max_len=len(words)\n",
    "    dict_img_captions[img].append(cleaned_caption)        "
   ]
  },
  {
   "cell_type": "code",
   "execution_count": 62,
   "metadata": {},
   "outputs": [
    {
     "data": {
      "text/plain": [
       "['startseq black dog and spotted dog are fighting endseq',\n",
       " 'startseq black dog and dog playing with each other on the road endseq',\n",
       " 'startseq black dog and white dog with brown spots are staring at each other in the street endseq',\n",
       " 'startseq two dogs of different breeds looking at each other on the road endseq',\n",
       " 'startseq two dogs on pavement moving toward each other endseq']"
      ]
     },
     "execution_count": 62,
     "metadata": {},
     "output_type": "execute_result"
    }
   ],
   "source": [
    "dict_img_captions['1001773457_577c3a7d70']"
   ]
  },
  {
   "cell_type": "code",
   "execution_count": 63,
   "metadata": {},
   "outputs": [
    {
     "data": {
      "text/plain": [
       "array(['startseq child in pink dress is climbing up set of stairs in an entry way endseq',\n",
       "       'startseq girl going into wooden building endseq',\n",
       "       'startseq little girl climbing into wooden playhouse endseq', ...,\n",
       "       'startseq person in red shirt climbing up rock face covered in assist handles endseq',\n",
       "       'startseq rock climber in red shirt endseq',\n",
       "       'startseq rock climber practices on rock climbing wall endseq'],\n",
       "      dtype='<U186')"
      ]
     },
     "execution_count": 63,
     "metadata": {},
     "output_type": "execute_result"
    }
   ],
   "source": [
    "cleaned_captions=np.array(list(dict_img_captions.values())).reshape(-1)\n",
    "cleaned_captions"
   ]
  },
  {
   "cell_type": "code",
   "execution_count": 64,
   "metadata": {},
   "outputs": [
    {
     "data": {
      "text/plain": [
       "33"
      ]
     },
     "execution_count": 64,
     "metadata": {},
     "output_type": "execute_result"
    }
   ],
   "source": [
    "max_len"
   ]
  },
  {
   "cell_type": "code",
   "execution_count": 53,
   "metadata": {},
   "outputs": [],
   "source": [
    "t=Tokenizer()\n",
    "t.fit_on_texts(cleaned_captions)"
   ]
  },
  {
   "cell_type": "code",
   "execution_count": 54,
   "metadata": {},
   "outputs": [],
   "source": [
    "with open('image_captions_pkl','wb') as file:\n",
    "    pickle.dump(dict_img_captions,file)"
   ]
  },
  {
   "cell_type": "code",
   "execution_count": 55,
   "metadata": {},
   "outputs": [],
   "source": [
    "with open('tokenizer_pkl','wb') as file:\n",
    "    pickle.dump(t,file)"
   ]
  }
 ],
 "metadata": {
  "kernelspec": {
   "display_name": "Python 3",
   "language": "python",
   "name": "python3"
  },
  "language_info": {
   "codemirror_mode": {
    "name": "ipython",
    "version": 3
   },
   "file_extension": ".py",
   "mimetype": "text/x-python",
   "name": "python",
   "nbconvert_exporter": "python",
   "pygments_lexer": "ipython3",
   "version": "3.7.6"
  }
 },
 "nbformat": 4,
 "nbformat_minor": 4
}
